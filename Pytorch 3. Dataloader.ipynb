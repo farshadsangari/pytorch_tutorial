{
 "cells": [
  {
   "attachments": {},
   "cell_type": "markdown",
   "id": "4f7af959",
   "metadata": {},
   "source": [
    "<div style=\"display:block\" direction=rtl align=right><br><br>\n",
    "    <div  style=\"width:100%;margin:100;display:block\"  display=block align=center>\n",
    "        <img width=130 align=right src=\"https://i.ibb.co/yXKQmtZ/logo1.png\" style=\"margin:0;\" />\n",
    "        <img width=170 align=left  src=\"https://i.ibb.co/wLjqFkw/logo2.png\" style=\"margin:0;\" />\n",
    "        <span><br><font size=5>University of Tehran , school of ECE</font></span>\n",
    "        <span><br><font size=3>Deep Learning</font></span>\n",
    "        <span><br><font size=3>Spring 2023</font></span>\n",
    "    </div><br><br><br>\n",
    "    <div style=\"display:block\" align=left display=block> \n",
    "        <font size=3>Pytorch tutorial - Dataloader</font><br>\n",
    "        <hr />\n",
    "        <font size=3>TA: <a href=\"mailto:farshads7778@gmail.com\">Farshad Sangari</a></font><br>\n",
    "    </div>\n",
    "</div>"
   ]
  },
  {
   "cell_type": "markdown",
   "id": "cbf78bcd-34ce-4dce-89c5-0c440480b663",
   "metadata": {
    "jp-MarkdownHeadingCollapsed": true,
    "tags": []
   },
   "source": [
    "# Import libraries"
   ]
  },
  {
   "cell_type": "code",
   "execution_count": 2,
   "id": "260a8c5a-80f8-44c8-a545-2a7601df493e",
   "metadata": {},
   "outputs": [],
   "source": [
    "import torch\n",
    "import torchvision\n",
    "from torchvision import transforms\n",
    "from torch.utils.data import DataLoader, Dataset\n",
    "from PIL import Image\n",
    "\n",
    "import os\n",
    "import glob\n",
    "import random\n",
    "import matplotlib.pyplot as plt\n"
   ]
  },
  {
   "cell_type": "markdown",
   "id": "985196bc-6630-4779-8475-16401d1e195e",
   "metadata": {},
   "source": [
    "## Load data"
   ]
  },
  {
   "attachments": {},
   "cell_type": "markdown",
   "id": "75da4798",
   "metadata": {},
   "source": [
    "#### Method1 - torchvision"
   ]
  },
  {
   "cell_type": "code",
   "execution_count": 3,
   "id": "41416513-4818-4689-bb74-2ac93ab7e2c3",
   "metadata": {},
   "outputs": [],
   "source": [
    "mnist_train_transform = transforms.Compose(\n",
    "                    [transforms.RandomRotation(10),\n",
    "                    transforms.ToTensor(),\n",
    "                    transforms.Normalize((0.1307,), (0.3081,))])\n",
    "\n",
    "mnist_val_transform = transforms.Compose(\n",
    "                    [transforms.ToTensor(),\n",
    "                    transforms.Normalize((0.1307,), (0.3081,))])"
   ]
  },
  {
   "cell_type": "code",
   "execution_count": 4,
   "id": "0e701566-a096-4fbd-a4ed-b693a8e583a3",
   "metadata": {},
   "outputs": [
    {
     "name": "stdout",
     "output_type": "stream",
     "text": [
      "Files already downloaded and verified\n",
      "Files already downloaded and verified\n"
     ]
    }
   ],
   "source": [
    "mnist_train_set = torchvision.datasets.MNIST(root='./data',\n",
    "                                       train=True,\n",
    "                                       download=True,\n",
    "                                       transform=mnist_train_transform)\n",
    "\n",
    "mnist_val_set = torchvision.datasets.MNIST(root='./data',\n",
    "                                       train=False,\n",
    "                                       download=True,\n",
    "                                       transform=mnist_val_transform)"
   ]
  },
  {
   "cell_type": "code",
   "execution_count": 5,
   "id": "7f7e6236",
   "metadata": {},
   "outputs": [],
   "source": [
    "mnist_train_loader = torch.utils.data.DataLoader(mnist_train_set,\n",
    "                                                batch_size=16,\n",
    "                                                shuffle=True)\n",
    "\n",
    "mnist_val_loader = torch.utils.data.DataLoader(mnist_val_set,\n",
    "                                                batch_size=16,\n",
    "                                                shuffle=False)"
   ]
  },
  {
   "attachments": {},
   "cell_type": "markdown",
   "id": "71ac5a9e",
   "metadata": {},
   "source": [
    "#### Method2"
   ]
  },
  {
   "cell_type": "code",
   "execution_count": 6,
   "id": "968f1369",
   "metadata": {},
   "outputs": [],
   "source": [
    "DIR_TRAIN = \"./data/CIFAR10/train/\"\n",
    "DIR_VAL = \"./data/CIFAR10/val/\""
   ]
  },
  {
   "cell_type": "code",
   "execution_count": 9,
   "id": "e43346be",
   "metadata": {},
   "outputs": [
    {
     "name": "stdout",
     "output_type": "stream",
     "text": [
      "Total Classes:  10\n",
      "\n",
      "Total train images:  50000\n",
      "Total test images:  10000\n"
     ]
    }
   ],
   "source": [
    "classes = os.listdir(DIR_TRAIN)\n",
    "print(\"Total Classes: \", len(classes))\n",
    "\n",
    "train_imgs = []\n",
    "val_imgs  = []\n",
    "for _class in classes:\n",
    "    train_imgs += glob.glob(DIR_TRAIN + _class + '/*.jpg')\n",
    "    val_imgs += glob.glob(DIR_VAL + _class + '/*.jpg')\n",
    "\n",
    "print(\"\\nTotal train images: \", len(train_imgs))\n",
    "print(\"Total test images: \", len(val_imgs))"
   ]
  },
  {
   "cell_type": "code",
   "execution_count": null,
   "id": "aacf185e",
   "metadata": {},
   "outputs": [],
   "source": [
    "cifar_transforms_train = transforms.Compose([\n",
    "    transforms.RandomHorizontalFlip(),\n",
    "    transforms.RandomCrop(32, padding=4),\n",
    "    transforms.RandomRotation(10),\n",
    "    transforms.ToTensor(),\n",
    "    transforms.Normalize((0.49139968, 0.48215827 ,0.44653124), (0.24703233,0.24348505,0.26158768))])\n",
    "\n",
    "cifar_transforms_val = transforms.Compose([\n",
    "    transforms.ToTensor(),\n",
    "    transforms.Normalize((0.49139968, 0.48215827 ,0.44653124), (0.24703233,0.24348505,0.26158768))])"
   ]
  },
  {
   "cell_type": "code",
   "execution_count": 10,
   "id": "a4c842a9",
   "metadata": {},
   "outputs": [],
   "source": [
    "class CIFAR10Dataset(Dataset):\n",
    "    \n",
    "    def __init__(self, imgs_list, classes, transforms=None):\n",
    "        super(CIFAR10Dataset, self).__init__()\n",
    "        self.imgs_list = imgs_list\n",
    "        self.class_to_int = {classes[i] : i for i in range(len(classes))}\n",
    "        self.transforms = transforms\n",
    "    def __getitem__(self, index):\n",
    "    \n",
    "        image_path = self.imgs_list[index]\n",
    "        \n",
    "        # Reading image\n",
    "        image = Image.open(image_path)\n",
    "        \n",
    "        # Retriving class label\n",
    "        label = image_path.split(\"/\")[-2]\n",
    "        label = self.class_to_int[label]\n",
    "        \n",
    "        # Applying transforms on image\n",
    "        if self.transforms is not None:\n",
    "            image = self.transforms(image)\n",
    "        else:\n",
    "            image = transforms.ToTensor()(image)\n",
    "        return image, label\n",
    "        \n",
    "\n",
    "    def __len__(self):\n",
    "        return len(self.imgs_list)"
   ]
  },
  {
   "cell_type": "code",
   "execution_count": 11,
   "id": "e5d9adf3",
   "metadata": {},
   "outputs": [],
   "source": [
    "train_dataset = CIFAR10Dataset(imgs_list = train_imgs, classes = classes, transforms = cifar_transforms_train)\n",
    "val_dataset = CIFAR10Dataset(imgs_list = val_imgs, classes = classes, transforms = cifar_transforms_val)"
   ]
  },
  {
   "cell_type": "code",
   "execution_count": 12,
   "id": "a1289a29",
   "metadata": {},
   "outputs": [],
   "source": [
    "cifar_train_loader = torch.utils.data.DataLoader(train_dataset,\n",
    "                                                batch_size=16,\n",
    "                                                shuffle=True)\n",
    "\n",
    "cifar_val_loader = torch.utils.data.DataLoader(val_dataset,\n",
    "                                                batch_size=16,\n",
    "                                                shuffle=False)"
   ]
  },
  {
   "attachments": {},
   "cell_type": "markdown",
   "id": "2c06fd4a",
   "metadata": {},
   "source": [
    "#### Implementation torchvision datasets using method 2"
   ]
  },
  {
   "cell_type": "code",
   "execution_count": 157,
   "id": "281afa4c",
   "metadata": {},
   "outputs": [],
   "source": [
    "class MNISTDataset(Dataset):\n",
    "    def __init__(self,mode, transforms=None):\n",
    "        super(MNISTDataset, self).__init__()\n",
    "        self.transforms = transforms\n",
    "        is_train = True if mode == \"train\" else False\n",
    "        self.data = torchvision.datasets.MNIST(\n",
    "                                       root='./data',\n",
    "                                       train=is_train,\n",
    "                                       download=True)\n",
    "\n",
    "    def __getitem__(self, index):\n",
    "    \n",
    "        image, label = self.data[index]\n",
    "        \n",
    "        # Applying transforms on image\n",
    "        if self.transforms is not None:\n",
    "            image = self.transforms(image)\n",
    "        else:\n",
    "            image = transforms.ToTensor()(image)\n",
    "        return image, label\n",
    "\n",
    "    def __len__(self):\n",
    "        return len(self.data)"
   ]
  },
  {
   "cell_type": "code",
   "execution_count": 277,
   "id": "fb8b6d00",
   "metadata": {},
   "outputs": [],
   "source": [
    "MNIST_train = MNISTDataset(mode = \"train\" , transforms=mnist_train_transform)\n",
    "MNIST_val = MNISTDataset(mode = \"val\" , transforms=mnist_val_transform)"
   ]
  },
  {
   "attachments": {},
   "cell_type": "markdown",
   "id": "11db2c8b",
   "metadata": {},
   "source": [
    "## Imshow CIFAR images "
   ]
  },
  {
   "cell_type": "code",
   "execution_count": 412,
   "id": "da660089",
   "metadata": {},
   "outputs": [],
   "source": [
    "sample = next(iter(cifar_val_loader))"
   ]
  },
  {
   "cell_type": "code",
   "execution_count": 437,
   "id": "cdf98b0b-d81e-461f-8755-3eb4254e6b7e",
   "metadata": {},
   "outputs": [
    {
     "data": {
      "image/png": "[encoded data removed]",
      "text/plain": [
       "<Figure size 300x300 with 1 Axes>"
      ]
     },
     "metadata": {},
     "output_type": "display_data"
    }
   ],
   "source": [
    "import numpy as np\n",
    "def plot_input_sample(batch_data,\n",
    "                      mean = [0.49139968, 0.48215827 ,0.44653124],\n",
    "                      std = [0.24703233,0.24348505,0.26158768],\n",
    "                      to_denormalize = False,\n",
    "                      figsize = (3,3)):\n",
    "    \n",
    "    batch_image,_ = batch_data\n",
    "    batch_size = batch_image.shape[0]\n",
    "    \n",
    "    random_batch_index = random.randint(0,batch_size-1)\n",
    "    random_image = batch_image[random_batch_index]\n",
    "    \n",
    "    image_transposed = random_image.detach().numpy().transpose((1, 2, 0))\n",
    "    if to_denormalize:\n",
    "        image_transposed = np.array(std)*image_transposed + np.array(mean)\n",
    "        image_transposed = image_transposed.clip(0,1)\n",
    "    fig, ax = plt.subplots(1, figsize=figsize)\n",
    "    ax.imshow(image_transposed)\n",
    "    ax.set_axis_off()\n",
    "    \n",
    "    \n",
    "     \n",
    "sample = next(iter(cifar_val_loader))\n",
    "\n",
    "plot_input_sample(batch_data=sample,\n",
    "                  mean = [0.49139968, 0.48215827 ,0.44653124],\n",
    "                  std = [0.24703233,0.24348505,0.26158768],\n",
    "                  to_denormalize = True,\n",
    "                  figsize = (3,3))\n"
   ]
  }
 ],
 "metadata": {
  "kernelspec": {
   "display_name": "Python 3 (ipykernel)",
   "language": "python",
   "name": "python3"
  },
  "language_info": {
   "codemirror_mode": {
    "name": "ipython",
    "version": 3
   },
   "file_extension": ".py",
   "mimetype": "text/x-python",
   "name": "python",
   "nbconvert_exporter": "python",
   "pygments_lexer": "ipython3",
   "version": "3.9.13"
  }
 },
 "nbformat": 4,
 "nbformat_minor": 5
}
